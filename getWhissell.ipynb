{
 "cells": [
  {
   "cell_type": "code",
   "execution_count": 70,
   "metadata": {},
   "outputs": [
    {
     "name": "stdout",
     "output_type": "stream",
     "text": [
      "Populating the interactive namespace from numpy and matplotlib\n"
     ]
    },
    {
     "name": "stderr",
     "output_type": "stream",
     "text": [
      "C:\\ProgramData\\Anaconda3\\lib\\site-packages\\IPython\\core\\magics\\pylab.py:160: UserWarning: pylab import has clobbered these variables: ['mean']\n",
      "`%matplotlib` prevents importing * from pylab and numpy\n",
      "  \"\\n`%matplotlib` prevents importing * from pylab and numpy\"\n"
     ]
    }
   ],
   "source": [
    "%pylab inline\n",
    "figsize(12, 6)"
   ]
  },
  {
   "cell_type": "markdown",
   "metadata": {},
   "source": [
    "So we are going to try to do Gina's thing. That means finding the word, getting the 6 words before and behind, replacing them with the Whissel Dictionary numbers, then doing something with them. I will use the text of The Waves because I already have it. I will use the word 'bird' because it is in there a few times."
   ]
  },
  {
   "cell_type": "code",
   "execution_count": 71,
   "metadata": {},
   "outputs": [
    {
     "name": "stdout",
     "output_type": "stream",
     "text": [
      "Displaying 25 of 26 matches:\n",
      "eaf transparent and then another one bird chirped high up there was a pause an\n",
      "ole in the hedge i thought that is a bird on its nest i parted them and looked\n",
      "ted them and looked but there was no bird on a nest the leaves went on moving \n",
      "s are wild my lips tight pressed the bird flies the flower dances but i hear a\n",
      "d ribbons sprinkle the wallpaper the bird chorus is over only one bird now sin\n",
      "per the bird chorus is over only one bird now sings close to the bedroom windo\n",
      "hat i say crowding like a fluttering bird one sentence crosses the empty space\n",
      " if it shattered the song of another bird with harsh discord their round eyes \n",
      "le experiences so dear to the callow bird with a yellow tuft on its beak now c\n",
      "descending on the tree tops here one bird taking its way alone made wing for t\n",
      "or hot muzzle seethed in the water a bird perched on an ash coloured twig sipp\n",
      "ping over the ploughed land and some bird singing perhaps some intoxicated lar\n",
      "ems as if no leaf would ever fall or bird fly ' 'as if the miracle had happene\n",
      "e love and she answers imitating the bird love love what song do we hear ' 'th\n",
      "d not a movement must escape us ' 'a bird flies homeward ' said louis 'evening\n",
      "ll i gape ' said susan 'like a young bird unsatisfied for something that has e\n",
      "there was no sound save the cry of a bird seeking some lonelier tree at the cl\n",
      " not yet formed into one whole and a bird sings close to the window i heard th\n",
      " the verge of a grey desert where no bird sang the leaves shrivelled as she lo\n",
      "t as some beautiful fabulous phantom bird fish or cloud with fiery edges swam \n",
      " and the wood concealed nothing if a bird rose i should no longer make a poem \n",
      "ered to the next leaf to the precise bird to a child with a hoop to a prancing\n",
      "ng on those pallid noondays when the bird creeps close to the bough and the da\n",
      " pushing one foot after another or a bird or a man driving a spade into the ea\n",
      " sit by myself like the solitary sea bird that opens its wings on the stake le\n",
      "None\n"
     ]
    }
   ],
   "source": [
    "import re\n",
    "import nltk\n",
    "from statistics import mean\n",
    "\n",
    "targetText = \"texts/waves.txt\"    # the text to analyze (relative path)\n",
    "targetWord = \"bird\"               # the word type you want to score\n",
    "targetWindow = 6                  # this is tokens before and after target\n",
    "\n",
    "waves = open(targetText, 'r').read()                  # open source text\n",
    "waves_words = re.sub(\"[^a-zA-Z']\",\" \", waves).lower().split()\n",
    "waves_text = nltk.Text(waves_words)\n",
    "myword = waves_text.concordance(targetWord) \n",
    "print(myword)\n"
   ]
  },
  {
   "cell_type": "markdown",
   "metadata": {},
   "source": [
    "    c = nltk.ConcordanceIndex(waves_text.tokens, key = lambda s: s.lower())\n",
    "basically indexes the words for every token of the text. The 'offset' function returns the list of token offset positioins for a word. I save that as a list, then iterate through it one at a time. For each offset i, get i+1, i+2, i+3. Then as I get each one I run the lookup."
   ]
  },
  {
   "cell_type": "code",
   "execution_count": 72,
   "metadata": {},
   "outputs": [],
   "source": [
    "c = nltk.ConcordanceIndex(waves_text.tokens, key = lambda s: s.lower())\n",
    "# print (c.offsets(targetWord)[1]+1)\n",
    "locations = c.offsets(targetWord)\n",
    "# print(locations[0]+1)\n"
   ]
  },
  {
   "cell_type": "markdown",
   "metadata": {},
   "source": [
    "So now I have a list of target word offsets out of a list of all the tokens in order.\n",
    "(c._tokens) is the list of words, so a subscript of that will access the exact word at that position. \n",
    "Next, open the DA file and read it into a dictionary. Each line is split so the word is the key and the three Whissell numbers is the value. Lookup is simple: get(key) returns value: daffect.get(c._tokens[335])."
   ]
  },
  {
   "cell_type": "code",
   "execution_count": 73,
   "metadata": {},
   "outputs": [
    {
     "name": "stdout",
     "output_type": "stream",
     "text": [
      "bird offset = 333\n",
      "leaf transparent and then another one bird chirped high up there was a\n",
      "No Values for ['chirped']\n",
      "EE = 1.8477 AA = 1.6613 II = 1.72 \n",
      "\n",
      "bird offset = 1460\n",
      "hedge i thought that is a bird on its nest i parted them\n",
      "No Values for ['hedge', 'parted']\n",
      "EE = 1.9613 AA = 1.639 II = 1.55 \n",
      "\n",
      "bird offset = 1473\n",
      "and looked but there was no bird on a nest the leaves went\n",
      "No Values for []\n",
      "EE = 1.739 AA = 1.7061 II = 1.52 \n",
      "\n",
      "bird offset = 14095\n",
      "wild my lips tight pressed the bird flies the flower dances but i\n",
      "No Values for []\n",
      "EE = 2.0304 AA = 1.7952 II = 2.0 \n",
      "\n",
      "bird offset = 24525\n",
      "faded ribbons sprinkle the wallpaper the bird chorus is over only one bird\n",
      "No Values for ['ribbons', 'wallpaper']\n",
      "EE = 1.721 AA = 1.6181 II = 1.96 \n",
      "\n",
      "bird offset = 24531\n",
      "bird chorus is over only one bird now sings close to the bedroom\n",
      "No Values for []\n",
      "EE = 1.8037 AA = 1.6231 II = 1.89 \n",
      "\n",
      "bird offset = 26550\n",
      "i say crowding like a fluttering bird one sentence crosses the empty space\n",
      "No Values for ['crowding', 'fluttering', 'crosses']\n",
      "EE = 1.952 AA = 1.6351 II = 1.84 \n",
      "\n",
      "bird offset = 27756\n",
      "it shattered the song of another bird with harsh discord their round eyes\n",
      "No Values for ['discord']\n",
      "EE = 1.8411 AA = 1.7789 II = 1.7 \n",
      "\n",
      "bird offset = 31651\n",
      "experiences so dear to the callow bird with a yellow tuft on its\n",
      "No Values for ['callow', 'tuft']\n",
      "EE = 1.9661 AA = 1.7151 II = 1.55 \n",
      "\n",
      "bird offset = 47388\n",
      "on the tree tops here one bird taking its way alone made wing\n",
      "No Values for []\n",
      "EE = 1.8397 AA = 1.5716 II = 1.85 \n",
      "\n",
      "bird offset = 54339\n",
      "muzzle seethed in the water a bird perched on an ash coloured twig\n",
      "No Values for ['seethed', 'perched']\n",
      "EE = 1.7708 AA = 1.6308 II = 2.05 \n",
      "\n",
      "bird offset = 55229\n",
      "over the ploughed land and some bird singing perhaps some intoxicated lark has\n",
      "No Values for ['ploughed', 'intoxicated', 'lark']\n",
      "EE = 1.8541 AA = 1.7506 II = 1.68 \n",
      "\n",
      "bird offset = 58934\n",
      "no leaf would ever fall or bird fly ' 'as if the miracle\n",
      "No Values for [\"'\", \"'as\"]\n",
      "EE = 1.9131 AA = 1.8176 II = 1.73 \n",
      "\n",
      "bird offset = 60105\n",
      "love and she answers imitating the bird love love what song do we\n",
      "No Values for ['imitating']\n",
      "EE = 2.205 AA = 2.085 II = 1.68 \n",
      "\n",
      "bird offset = 60230\n",
      "movement must escape us ' 'a bird flies homeward ' said louis 'evening\n",
      "No Values for [\"'\", \"'a\", \"'\", 'louis', \"'evening\"]\n",
      "EE = 2.0387 AA = 2.1513 II = 2.1 \n",
      "\n",
      "bird offset = 61099\n",
      "' said susan 'like a young bird unsatisfied for something that has escaped\n",
      "No Values for [\"'\", 'susan', \"'like\", 'unsatisfied']\n",
      "EE = 2.0646 AA = 1.8943 II = 1.71 \n",
      "\n",
      "bird offset = 61951\n",
      "sound save the cry of a bird seeking some lonelier tree at the\n",
      "No Values for ['lonelier']\n",
      "EE = 2.0246 AA = 1.7629 II = 1.68 \n",
      "\n",
      "bird offset = 64674\n",
      "formed into one whole and a bird sings close to the window i\n",
      "No Values for []\n",
      "EE = 1.9234 AA = 1.5991 II = 1.63 \n",
      "\n",
      "bird offset = 66013\n",
      "of a grey desert where no bird sang the leaves shrivelled as she\n",
      "No Values for []\n",
      "EE = 1.7552 AA = 1.7245 II = 1.8 \n",
      "\n",
      "bird offset = 67052\n",
      "want as some beautiful fabulous phantom bird fish or cloud with fiery edges\n",
      "No Values for ['fabulous', 'phantom', 'fiery']\n",
      "EE = 1.9664 AA = 1.6644 II = 1.98 \n",
      "\n",
      "bird offset = 70666\n",
      "the wood concealed nothing if a bird rose i should no longer make\n",
      "No Values for ['concealed']\n",
      "EE = 1.8594 AA = 1.652 II = 1.58 \n",
      "\n",
      "bird offset = 73146\n",
      "the next leaf to the precise bird to a child with a hoop\n",
      "No Values for ['hoop']\n",
      "EE = 1.9049 AA = 1.5902 II = 1.53 \n",
      "\n",
      "bird offset = 73752\n",
      "on those pallid noondays when the bird creeps close to the bough and\n",
      "No Values for ['pallid', 'noondays', 'creeps', 'bough']\n",
      "EE = 1.7679 AA = 1.5728 II = 1.36 \n",
      "\n",
      "bird offset = 75278\n",
      "one foot after another or a bird or a man driving a spade\n",
      "No Values for []\n",
      "EE = 1.7963 AA = 1.5944 II = 1.78 \n",
      "\n",
      "bird offset = 77961\n",
      "by myself like the solitary sea bird that opens its wings on the\n",
      "No Values for []\n",
      "EE = 2.0076 AA = 1.8002 II = 1.69 \n",
      "\n",
      "bird offset = 78330\n",
      "hangs by the bedroom window a bird chirps cottagers light their early candles\n",
      "No Values for ['hangs', 'chirps', 'cottagers', 'candles']\n",
      "EE = 1.8896 AA = 1.5507 II = 1.98 \n",
      "\n"
     ]
    }
   ],
   "source": [
    "with open(\"texts/DAL.txt\") as dictionary_affect_file:\n",
    "   daffect = dict(line.rstrip().split(\",\", 1) for line in dictionary_affect_file)\n",
    "\n",
    "for location in locations:       #iterate over list of concordance hit offsets\n",
    "    print (c._tokens[location], \"offset =\", location)\n",
    "    phrase = []                  #keep a list of tokens in the phrase\n",
    "    nonelist = []                #new val lists for each interation of a location\n",
    "    eevals = []\n",
    "    aavals = []\n",
    "    iivals = []     \n",
    "    for i in range(0-targetWindow, 1+targetWindow):        #iterate over range from target offset, range extends up to but no including\n",
    "        #print (c._tokens[location+i], daffect.get(c._tokens[location+i]))\n",
    "        #print (c._tokens[location-i], daffect.get(c._tokens[location-i]))\n",
    "        phrase.append(c._tokens[location+i]) \n",
    "         \n",
    "        if daffect.get(c._tokens[location+i]) is None:\n",
    "            nonelist.append(c._tokens[location+i])         # prepare report of words not in DAL\n",
    "        else:\n",
    "            eeval, aaval, iival = daffect.get(c._tokens[location+i]).split(\",\")\n",
    "            eevals.append(float(eeval))                    # have to convert these to fp numbers\n",
    "            aavals.append(float(aaval))\n",
    "            iivals.append(float(iival))\n",
    "            #print (c._tokens[location+i], \"eevals = \", eevals)\n",
    "            #print (\"eevals length =\",len(eevals))\n",
    "    avgeevals = round(mean(eevals), 4)       # rounded to 4 decimal places like Whissell\n",
    "    avgaavals = round(mean(aavals), 4)       # rounded to 4 decimal places like Whissell\n",
    "    avgiivals = round(mean(iivals), 2)       # rounded to 2 decimal places like Whissell\n",
    "    print (\" \".join(word for word in phrase))\n",
    "    print (\"No Values for\", nonelist)\n",
    "    print (\"EE =\", avgeevals, \"AA =\", avgaavals, \"II =\", avgiivals, \"\\n\")               \n",
    "    \n"
   ]
  }
 ],
 "metadata": {
  "kernelspec": {
   "display_name": "Python 3",
   "language": "python",
   "name": "python3"
  },
  "language_info": {
   "codemirror_mode": {
    "name": "ipython",
    "version": 3
   },
   "file_extension": ".py",
   "mimetype": "text/x-python",
   "name": "python",
   "nbconvert_exporter": "python",
   "pygments_lexer": "ipython3",
   "version": "3.7.1"
  }
 },
 "nbformat": 4,
 "nbformat_minor": 2
}
