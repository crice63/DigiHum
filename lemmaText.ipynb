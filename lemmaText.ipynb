{
 "cells": [
  {
   "cell_type": "markdown",
   "metadata": {},
   "source": [
    "This is for making a text that consists of lowercased lemmas with no stopwords or punctuation. Fix the In and Out file names to your choice."
   ]
  },
  {
   "cell_type": "code",
   "execution_count": 6,
   "metadata": {},
   "outputs": [],
   "source": [
    "import spacy\n",
    "import textacy\n",
    "import re\n",
    "\n",
    "inFile = \"texts/waves-par.txt\"     # the text to analyze (relative path)\n",
    "outFile = \"texts/waves-par-lemmas.txt\"\n",
    "\n",
    "file = open(outFile, \"w\")\n",
    "\n",
    "document = open(inFile).read().lower()\n",
    "document = re.sub(\"('\\s|\\s')\",\" \", document)           #odd thing for Waves.text, too many single quotes\n",
    "textacy.preprocess.normalize_whitespace(document)\n",
    "doc = textacy.Doc(document)\n",
    "wordList = textacy.extract.words(doc, filter_stops=True, filter_punct=True, filter_nums=True, include_pos=None, exclude_pos=None, min_freq=1)\n",
    "\n",
    "for w in wordList:\n",
    "    if w.is_alpha and w.lemma_ != \"-PRON-\": #remove 's and errant punctuations and pronouns\n",
    "        file.write(w.lemma_ + ' ')         # w.i is the index of the word\n",
    "        \n",
    "file.close()"
   ]
  }
 ],
 "metadata": {
  "kernelspec": {
   "display_name": "Python 3",
   "language": "python",
   "name": "python3"
  },
  "language_info": {
   "codemirror_mode": {
    "name": "ipython",
    "version": 3
   },
   "file_extension": ".py",
   "mimetype": "text/x-python",
   "name": "python",
   "nbconvert_exporter": "python",
   "pygments_lexer": "ipython3",
   "version": "3.6.7"
  }
 },
 "nbformat": 4,
 "nbformat_minor": 2
}
