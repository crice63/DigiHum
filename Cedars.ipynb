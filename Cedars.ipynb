{
 "cells": [
  {
   "cell_type": "code",
   "execution_count": 38,
   "metadata": {},
   "outputs": [],
   "source": [
    "import re\n",
    "\n",
    "targetDoc = \"texts/cedars-without-quotes.txt\"\n",
    "outFile = \"texts/cedars-without-anyquotes.txt\"\n",
    "\n",
    "file = open(outFile, \"w\")\n",
    "\n",
    "doc = open(targetDoc, 'r').read()\n",
    "#doc = open(targetDoc, 'r').read().replace('\\n', ' ') # open source text, sub newlines w space\n",
    "#doc_clean = re.sub(\"[^a-zA-Z']\",\" \", doc)          # save only text and apostrophes\n",
    "\n",
    "suspensions = re.sub('BB[\\s\\S]*?QQ',' ', doc)   # '\"[\\s\\S]*?\"' find everything between quotes.\n",
    "#for sus in suspensions:                       # \"BB[\\s\\S]*?QQ\" get everything between BB and QQ\n",
    "file.write(suspensions + '\\n')                    #re.findall('\".*?[\"|$]', doc)\n",
    "\n",
    "file.close()\n",
    "\n"
   ]
  }
 ],
 "metadata": {
  "kernelspec": {
   "display_name": "Python 3",
   "language": "python",
   "name": "python3"
  },
  "language_info": {
   "codemirror_mode": {
    "name": "ipython",
    "version": 3
   },
   "file_extension": ".py",
   "mimetype": "text/x-python",
   "name": "python",
   "nbconvert_exporter": "python",
   "pygments_lexer": "ipython3",
   "version": "3.6.7"
  }
 },
 "nbformat": 4,
 "nbformat_minor": 2
}
